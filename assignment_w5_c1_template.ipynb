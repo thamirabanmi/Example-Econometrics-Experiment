{
  "nbformat": 4,
  "nbformat_minor": 0,
  "metadata": {
    "kernelspec": {
      "display_name": "Python 3",
      "language": "python",
      "name": "python3"
    },
    "language_info": {
      "codemirror_mode": {
        "name": "ipython",
        "version": 3
      },
      "file_extension": ".py",
      "mimetype": "text/x-python",
      "name": "python",
      "nbconvert_exporter": "python",
      "pygments_lexer": "ipython3",
      "version": "3.8.8"
    },
    "colab": {
      "name": "assignment_w5_c1_template.ipynb",
      "provenance": [],
      "collapsed_sections": []
    }
  },
  "cells": [
    {
      "cell_type": "markdown",
      "metadata": {
        "id": "ssMd4ptMzb1H"
      },
      "source": [
        "Week 5, Assignment C1:\n",
        "\n",
        "Logistic Regression with Yahoo! Finance API in Python\n",
        "\n",
        "In this notebook, we will study Logistic Regression using the Yahoo! Finance API in Python.\n",
        "\n",
        "Please complete the lines bellow where you see \"#TODO\"."
      ]
    },
    {
      "cell_type": "code",
      "metadata": {
        "id": "4H7f2Uf1zb1J"
      },
      "source": [
        "#Objective 1.\n",
        "#Use this cell to import the Numpy (as np), Pandas (as pd), and YFinance (as yf) packages.\n",
        "\n",
        "import numpy as np\n",
        "import pandas as pd\n",
        "import yfinance as yf\n",
        "#Our work will also require some components of the Sklearn and Pandas_Datareader packages as imported below:\n",
        "import sklearn\n",
        "from sklearn.linear_model import LogisticRegression\n",
        "from sklearn import metrics\n",
        "from sklearn.model_selection import cross_val_score\n",
        "from pandas_datareader import data as pdr\n",
        "yf.pdr_override()\n"
      ],
      "execution_count": 86,
      "outputs": []
    },
    {
      "cell_type": "code",
      "metadata": {
        "id": "mf8DjYWuS7MD"
      },
      "source": [
        ""
      ],
      "execution_count": 86,
      "outputs": []
    },
    {
      "cell_type": "code",
      "metadata": {
        "id": "fpKUx7Idzb1L"
      },
      "source": [
        "#Objective 2.\n",
        "#Select a stock symbol for a stock whose historical data is available on the Yahoo! Finance website.  Store the\n",
        "#string of your chosen symbol to the new variable \"stock_symbol\".\n",
        "\n",
        "stock_symbol = 'Tsla'"
      ],
      "execution_count": 87,
      "outputs": []
    },
    {
      "cell_type": "code",
      "metadata": {
        "colab": {
          "base_uri": "https://localhost:8080/",
          "height": 484
        },
        "id": "XVp_UoyJzb1L",
        "outputId": "37aa60ba-75e1-439e-e783-887680f8d361"
      },
      "source": [
        "#Objective 3.\n",
        "#Use the function \"pdr.get_data_yahoo(stock_symbol, start_date, end_date)\" to generate a Pandas dataframe of\n",
        "#historical stock data for your chosen stock.  Retain only the first four columns of the dataframe.  Be sure to \n",
        "#drop any rows containing NaN's, and take a peek at the resulting dataframe to make sure everything looks good.\n",
        "\n",
        "df = pdr.get_data_yahoo(stock_symbol, \"2019-1-1\", \"2021-1-1\")\n",
        "df = df[pdr.get_data_yahoo(stock_symbol, \"2019-1-1\", \"2021-1-1\").columns[0:4]]\n",
        "df = df[[\"Open\", \"High\", \"Low\", \"Close\"]]\n",
        "df = df.dropna()\n",
        "df\n"
      ],
      "execution_count": 88,
      "outputs": [
        {
          "output_type": "stream",
          "name": "stdout",
          "text": [
            "[*********************100%***********************]  1 of 1 completed\n",
            "[*********************100%***********************]  1 of 1 completed\n"
          ]
        },
        {
          "output_type": "execute_result",
          "data": {
            "text/html": [
              "<div>\n",
              "<style scoped>\n",
              "    .dataframe tbody tr th:only-of-type {\n",
              "        vertical-align: middle;\n",
              "    }\n",
              "\n",
              "    .dataframe tbody tr th {\n",
              "        vertical-align: top;\n",
              "    }\n",
              "\n",
              "    .dataframe thead th {\n",
              "        text-align: right;\n",
              "    }\n",
              "</style>\n",
              "<table border=\"1\" class=\"dataframe\">\n",
              "  <thead>\n",
              "    <tr style=\"text-align: right;\">\n",
              "      <th></th>\n",
              "      <th>Open</th>\n",
              "      <th>High</th>\n",
              "      <th>Low</th>\n",
              "      <th>Close</th>\n",
              "    </tr>\n",
              "    <tr>\n",
              "      <th>Date</th>\n",
              "      <th></th>\n",
              "      <th></th>\n",
              "      <th></th>\n",
              "      <th></th>\n",
              "    </tr>\n",
              "  </thead>\n",
              "  <tbody>\n",
              "    <tr>\n",
              "      <th>2019-01-02</th>\n",
              "      <td>61.220001</td>\n",
              "      <td>63.026001</td>\n",
              "      <td>59.759998</td>\n",
              "      <td>62.023998</td>\n",
              "    </tr>\n",
              "    <tr>\n",
              "      <th>2019-01-03</th>\n",
              "      <td>61.400002</td>\n",
              "      <td>61.880001</td>\n",
              "      <td>59.476002</td>\n",
              "      <td>60.071999</td>\n",
              "    </tr>\n",
              "    <tr>\n",
              "      <th>2019-01-04</th>\n",
              "      <td>61.200001</td>\n",
              "      <td>63.599998</td>\n",
              "      <td>60.546001</td>\n",
              "      <td>63.537998</td>\n",
              "    </tr>\n",
              "    <tr>\n",
              "      <th>2019-01-07</th>\n",
              "      <td>64.344002</td>\n",
              "      <td>67.348000</td>\n",
              "      <td>63.549999</td>\n",
              "      <td>66.991997</td>\n",
              "    </tr>\n",
              "    <tr>\n",
              "      <th>2019-01-08</th>\n",
              "      <td>68.391998</td>\n",
              "      <td>68.802002</td>\n",
              "      <td>65.403999</td>\n",
              "      <td>67.070000</td>\n",
              "    </tr>\n",
              "    <tr>\n",
              "      <th>...</th>\n",
              "      <td>...</td>\n",
              "      <td>...</td>\n",
              "      <td>...</td>\n",
              "      <td>...</td>\n",
              "    </tr>\n",
              "    <tr>\n",
              "      <th>2020-12-24</th>\n",
              "      <td>642.989990</td>\n",
              "      <td>666.090027</td>\n",
              "      <td>641.000000</td>\n",
              "      <td>661.770020</td>\n",
              "    </tr>\n",
              "    <tr>\n",
              "      <th>2020-12-28</th>\n",
              "      <td>674.510010</td>\n",
              "      <td>681.400024</td>\n",
              "      <td>660.799988</td>\n",
              "      <td>663.690002</td>\n",
              "    </tr>\n",
              "    <tr>\n",
              "      <th>2020-12-29</th>\n",
              "      <td>661.000000</td>\n",
              "      <td>669.900024</td>\n",
              "      <td>655.000000</td>\n",
              "      <td>665.989990</td>\n",
              "    </tr>\n",
              "    <tr>\n",
              "      <th>2020-12-30</th>\n",
              "      <td>672.000000</td>\n",
              "      <td>696.599976</td>\n",
              "      <td>668.359985</td>\n",
              "      <td>694.780029</td>\n",
              "    </tr>\n",
              "    <tr>\n",
              "      <th>2020-12-31</th>\n",
              "      <td>699.989990</td>\n",
              "      <td>718.719971</td>\n",
              "      <td>691.119995</td>\n",
              "      <td>705.669983</td>\n",
              "    </tr>\n",
              "  </tbody>\n",
              "</table>\n",
              "<p>505 rows × 4 columns</p>\n",
              "</div>"
            ],
            "text/plain": [
              "                  Open        High         Low       Close\n",
              "Date                                                      \n",
              "2019-01-02   61.220001   63.026001   59.759998   62.023998\n",
              "2019-01-03   61.400002   61.880001   59.476002   60.071999\n",
              "2019-01-04   61.200001   63.599998   60.546001   63.537998\n",
              "2019-01-07   64.344002   67.348000   63.549999   66.991997\n",
              "2019-01-08   68.391998   68.802002   65.403999   67.070000\n",
              "...                ...         ...         ...         ...\n",
              "2020-12-24  642.989990  666.090027  641.000000  661.770020\n",
              "2020-12-28  674.510010  681.400024  660.799988  663.690002\n",
              "2020-12-29  661.000000  669.900024  655.000000  665.989990\n",
              "2020-12-30  672.000000  696.599976  668.359985  694.780029\n",
              "2020-12-31  699.989990  718.719971  691.119995  705.669983\n",
              "\n",
              "[505 rows x 4 columns]"
            ]
          },
          "metadata": {},
          "execution_count": 88
        }
      ]
    },
    {
      "cell_type": "code",
      "metadata": {
        "colab": {
          "base_uri": "https://localhost:8080/",
          "height": 450
        },
        "id": "sliiHGY6zb1M",
        "outputId": "5ff05912-099a-4102-f6cf-b8941c49e91f"
      },
      "source": [
        "#Objective 4.\n",
        "#Use the historical data to define some predictor variables.  Add these variables to the dataframe.  Include, at a\n",
        "#minimum, (Predictor.I) the rolling average closing price over the past fifteen (15) days and (Predictor.II) the\n",
        "#change in opening price over the past one (1) day.  Be sure to again drop any rows containing NaN's, and take a\n",
        "#peek at the resulting dataframe to make sure everything looks good.  Store the dataframe as the new variable \"X\".\n",
        "\n",
        "df['Close_15_Rolling'] = df[\"Close\"].rolling(window=15).mean()\n",
        "df['Open_1_Change'] = df[\"Open\"].diff()\n",
        "df = df.dropna()\n",
        "X = df\n",
        "df\n",
        "\n",
        "\n"
      ],
      "execution_count": 89,
      "outputs": [
        {
          "output_type": "execute_result",
          "data": {
            "text/html": [
              "<div>\n",
              "<style scoped>\n",
              "    .dataframe tbody tr th:only-of-type {\n",
              "        vertical-align: middle;\n",
              "    }\n",
              "\n",
              "    .dataframe tbody tr th {\n",
              "        vertical-align: top;\n",
              "    }\n",
              "\n",
              "    .dataframe thead th {\n",
              "        text-align: right;\n",
              "    }\n",
              "</style>\n",
              "<table border=\"1\" class=\"dataframe\">\n",
              "  <thead>\n",
              "    <tr style=\"text-align: right;\">\n",
              "      <th></th>\n",
              "      <th>Open</th>\n",
              "      <th>High</th>\n",
              "      <th>Low</th>\n",
              "      <th>Close</th>\n",
              "      <th>Close_15_Rolling</th>\n",
              "      <th>Open_1_Change</th>\n",
              "    </tr>\n",
              "    <tr>\n",
              "      <th>Date</th>\n",
              "      <th></th>\n",
              "      <th></th>\n",
              "      <th></th>\n",
              "      <th></th>\n",
              "      <th></th>\n",
              "      <th></th>\n",
              "    </tr>\n",
              "  </thead>\n",
              "  <tbody>\n",
              "    <tr>\n",
              "      <th>2019-01-23</th>\n",
              "      <td>58.500000</td>\n",
              "      <td>58.900002</td>\n",
              "      <td>56.338001</td>\n",
              "      <td>57.518002</td>\n",
              "      <td>65.202666</td>\n",
              "      <td>-2.464001</td>\n",
              "    </tr>\n",
              "    <tr>\n",
              "      <th>2019-01-24</th>\n",
              "      <td>56.605999</td>\n",
              "      <td>58.736000</td>\n",
              "      <td>55.855999</td>\n",
              "      <td>58.301998</td>\n",
              "      <td>64.954533</td>\n",
              "      <td>-1.894001</td>\n",
              "    </tr>\n",
              "    <tr>\n",
              "      <th>2019-01-25</th>\n",
              "      <td>58.877998</td>\n",
              "      <td>59.703999</td>\n",
              "      <td>57.910000</td>\n",
              "      <td>59.408001</td>\n",
              "      <td>64.910267</td>\n",
              "      <td>2.271999</td>\n",
              "    </tr>\n",
              "    <tr>\n",
              "      <th>2019-01-28</th>\n",
              "      <td>58.582001</td>\n",
              "      <td>59.492001</td>\n",
              "      <td>57.549999</td>\n",
              "      <td>59.276001</td>\n",
              "      <td>64.626133</td>\n",
              "      <td>-0.295998</td>\n",
              "    </tr>\n",
              "    <tr>\n",
              "      <th>2019-01-29</th>\n",
              "      <td>59.054001</td>\n",
              "      <td>59.712002</td>\n",
              "      <td>58.360001</td>\n",
              "      <td>59.492001</td>\n",
              "      <td>64.126134</td>\n",
              "      <td>0.472000</td>\n",
              "    </tr>\n",
              "    <tr>\n",
              "      <th>...</th>\n",
              "      <td>...</td>\n",
              "      <td>...</td>\n",
              "      <td>...</td>\n",
              "      <td>...</td>\n",
              "      <td>...</td>\n",
              "      <td>...</td>\n",
              "    </tr>\n",
              "    <tr>\n",
              "      <th>2020-12-24</th>\n",
              "      <td>642.989990</td>\n",
              "      <td>666.090027</td>\n",
              "      <td>641.000000</td>\n",
              "      <td>661.770020</td>\n",
              "      <td>638.461336</td>\n",
              "      <td>10.789978</td>\n",
              "    </tr>\n",
              "    <tr>\n",
              "      <th>2020-12-28</th>\n",
              "      <td>674.510010</td>\n",
              "      <td>681.400024</td>\n",
              "      <td>660.799988</td>\n",
              "      <td>663.690002</td>\n",
              "      <td>642.771338</td>\n",
              "      <td>31.520020</td>\n",
              "    </tr>\n",
              "    <tr>\n",
              "      <th>2020-12-29</th>\n",
              "      <td>661.000000</td>\n",
              "      <td>669.900024</td>\n",
              "      <td>655.000000</td>\n",
              "      <td>665.989990</td>\n",
              "      <td>644.386670</td>\n",
              "      <td>-13.510010</td>\n",
              "    </tr>\n",
              "    <tr>\n",
              "      <th>2020-12-30</th>\n",
              "      <td>672.000000</td>\n",
              "      <td>696.599976</td>\n",
              "      <td>668.359985</td>\n",
              "      <td>694.780029</td>\n",
              "      <td>647.380005</td>\n",
              "      <td>11.000000</td>\n",
              "    </tr>\n",
              "    <tr>\n",
              "      <th>2020-12-31</th>\n",
              "      <td>699.989990</td>\n",
              "      <td>718.719971</td>\n",
              "      <td>691.119995</td>\n",
              "      <td>705.669983</td>\n",
              "      <td>654.126005</td>\n",
              "      <td>27.989990</td>\n",
              "    </tr>\n",
              "  </tbody>\n",
              "</table>\n",
              "<p>491 rows × 6 columns</p>\n",
              "</div>"
            ],
            "text/plain": [
              "                  Open        High  ...  Close_15_Rolling  Open_1_Change\n",
              "Date                                ...                                 \n",
              "2019-01-23   58.500000   58.900002  ...         65.202666      -2.464001\n",
              "2019-01-24   56.605999   58.736000  ...         64.954533      -1.894001\n",
              "2019-01-25   58.877998   59.703999  ...         64.910267       2.271999\n",
              "2019-01-28   58.582001   59.492001  ...         64.626133      -0.295998\n",
              "2019-01-29   59.054001   59.712002  ...         64.126134       0.472000\n",
              "...                ...         ...  ...               ...            ...\n",
              "2020-12-24  642.989990  666.090027  ...        638.461336      10.789978\n",
              "2020-12-28  674.510010  681.400024  ...        642.771338      31.520020\n",
              "2020-12-29  661.000000  669.900024  ...        644.386670     -13.510010\n",
              "2020-12-30  672.000000  696.599976  ...        647.380005      11.000000\n",
              "2020-12-31  699.989990  718.719971  ...        654.126005      27.989990\n",
              "\n",
              "[491 rows x 6 columns]"
            ]
          },
          "metadata": {},
          "execution_count": 89
        }
      ]
    },
    {
      "cell_type": "code",
      "metadata": {
        "id": "bj_gfgKJzb1M"
      },
      "source": [
        "#Objective 5.\n",
        "#Define the target or dependent variable to be one (1) if the change in closing price over the past one (1) day is\n",
        "#nonnegative and negative one (-1) if the change in closing price over the past one (1) day is negative.  This\n",
        "#variable's values should be forward-looking (i.e., you should subtract today's price from tomorrow's price rather\n",
        "#than subtracting yesterday's price from today's price).  Store the resulting values as the new variable \"y\".  You\n",
        "#may find the \"np.where(*args)\" function to be useful.  Look it up in Numpy documentation for support.\n",
        "\n",
        "y = np.where((df.Close.shift(-1)-df['Close'])>=0, 1, -1)\n"
      ],
      "execution_count": 90,
      "outputs": []
    },
    {
      "cell_type": "code",
      "metadata": {
        "id": "s-s4usSmzb1N"
      },
      "source": [
        "#Objective 6.\n",
        "#Split the data into training and test sets, putting the first seventy percent (70%) of the data in the training\n",
        "#set.\n",
        "\n",
        "X = df\n",
        "index = int(0.7*len(X))\n",
        "X_train = X[:index]\n",
        "X_test  = X[index:]\n",
        "y_train = y[:index]\n",
        "y_test  = y[index:]\n"
      ],
      "execution_count": 91,
      "outputs": []
    },
    {
      "cell_type": "code",
      "metadata": {
        "id": "YXsdl43Ozb1O"
      },
      "source": [
        "#Objective 7.\n",
        "#Instantiate the Logistic Regression model object, and use its \".fit(*args)\" method to fit the model to the \n",
        "#training data.\n",
        "\n",
        "logistic = LogisticRegression()\n",
        "logistic = logistic.fit(X_train,y_train)"
      ],
      "execution_count": 92,
      "outputs": []
    },
    {
      "cell_type": "code",
      "metadata": {
        "id": "_mf857rAzb1P",
        "colab": {
          "base_uri": "https://localhost:8080/",
          "height": 235
        },
        "outputId": "f5537d40-ccc0-4b33-ff8e-7ee7016a8de1"
      },
      "source": [
        "#Objective 8.\n",
        "#Examine the model's coefficients by using its \".coef_\" method.\n",
        "\n",
        "pd.DataFrame(zip(X.columns, np.transpose(logistic.coef_)))"
      ],
      "execution_count": 93,
      "outputs": [
        {
          "output_type": "execute_result",
          "data": {
            "text/html": [
              "<div>\n",
              "<style scoped>\n",
              "    .dataframe tbody tr th:only-of-type {\n",
              "        vertical-align: middle;\n",
              "    }\n",
              "\n",
              "    .dataframe tbody tr th {\n",
              "        vertical-align: top;\n",
              "    }\n",
              "\n",
              "    .dataframe thead th {\n",
              "        text-align: right;\n",
              "    }\n",
              "</style>\n",
              "<table border=\"1\" class=\"dataframe\">\n",
              "  <thead>\n",
              "    <tr style=\"text-align: right;\">\n",
              "      <th></th>\n",
              "      <th>0</th>\n",
              "      <th>1</th>\n",
              "    </tr>\n",
              "  </thead>\n",
              "  <tbody>\n",
              "    <tr>\n",
              "      <th>0</th>\n",
              "      <td>Open</td>\n",
              "      <td>[-0.037932917618739945]</td>\n",
              "    </tr>\n",
              "    <tr>\n",
              "      <th>1</th>\n",
              "      <td>High</td>\n",
              "      <td>[0.01964741907224521]</td>\n",
              "    </tr>\n",
              "    <tr>\n",
              "      <th>2</th>\n",
              "      <td>Low</td>\n",
              "      <td>[0.0834811164125569]</td>\n",
              "    </tr>\n",
              "    <tr>\n",
              "      <th>3</th>\n",
              "      <td>Close</td>\n",
              "      <td>[-0.059695905938206416]</td>\n",
              "    </tr>\n",
              "    <tr>\n",
              "      <th>4</th>\n",
              "      <td>Close_15_Rolling</td>\n",
              "      <td>[-0.0031195336557393563]</td>\n",
              "    </tr>\n",
              "    <tr>\n",
              "      <th>5</th>\n",
              "      <td>Open_1_Change</td>\n",
              "      <td>[0.028716211836391257]</td>\n",
              "    </tr>\n",
              "  </tbody>\n",
              "</table>\n",
              "</div>"
            ],
            "text/plain": [
              "                  0                         1\n",
              "0              Open   [-0.037932917618739945]\n",
              "1              High     [0.01964741907224521]\n",
              "2               Low      [0.0834811164125569]\n",
              "3             Close   [-0.059695905938206416]\n",
              "4  Close_15_Rolling  [-0.0031195336557393563]\n",
              "5     Open_1_Change    [0.028716211836391257]"
            ]
          },
          "metadata": {},
          "execution_count": 93
        }
      ]
    },
    {
      "cell_type": "code",
      "metadata": {
        "id": "oko4Q3Vfzb1P"
      },
      "source": [
        "#Objective 9.\n",
        "#Use the model's \".predict_proba(*args)\" and \".predict(*args)\" methods to generate predictions over the test set.\n",
        "\n",
        "probabilities = logistic.predict_proba(X_test)\n",
        "predictions = logistic.predict(X_test)"
      ],
      "execution_count": 94,
      "outputs": []
    },
    {
      "cell_type": "code",
      "metadata": {
        "id": "gzMxJTjezb1Q",
        "colab": {
          "base_uri": "https://localhost:8080/"
        },
        "outputId": "af71ab56-43c2-4137-a6d1-2f09cb222ea9"
      },
      "source": [
        "#Objective 10.\n",
        "#Use the function \"metrics.confusion_matrix(*args)\" to create a confusion matrix comparing the predicted and true\n",
        "#classification labels over the test set.\n",
        "\n",
        "sklearn.metrics.confusion_matrix(y_pred=predictions,y_true=y_test)"
      ],
      "execution_count": 95,
      "outputs": [
        {
          "output_type": "execute_result",
          "data": {
            "text/plain": [
              "array([[16, 45],\n",
              "       [25, 62]])"
            ]
          },
          "metadata": {},
          "execution_count": 95
        }
      ]
    },
    {
      "cell_type": "code",
      "metadata": {
        "id": "9PFge8rOzb1Q",
        "colab": {
          "base_uri": "https://localhost:8080/"
        },
        "outputId": "3b1e465d-18c1-49bd-e157-7a47cf061332"
      },
      "source": [
        "#Objective 11.\n",
        "#Calculate the model's accuracy on the test set using its \".score(*args)\" method.\n",
        "\n",
        "logistic.score(X_test,y_test)"
      ],
      "execution_count": 96,
      "outputs": [
        {
          "output_type": "execute_result",
          "data": {
            "text/plain": [
              "0.527027027027027"
            ]
          },
          "metadata": {},
          "execution_count": 96
        }
      ]
    },
    {
      "cell_type": "code",
      "metadata": {
        "id": "5nCFXGVwzb1Q",
        "colab": {
          "base_uri": "https://localhost:8080/"
        },
        "outputId": "d4d3072b-6551-4a10-98f8-c136cf656ca2"
      },
      "source": [
        "#Objective 12.\n",
        "#Use five-fold cross validation to cross-check the accuracy of the model over different held-out test sets.  This\n",
        "#is where you should use the function \"cross_val_score(*args)\".\n",
        "\n",
        "cross_val = cross_val_score(LogisticRegression(),X=X,y=y,cv=5)\n"
      ],
      "execution_count": 97,
      "outputs": [
        {
          "output_type": "stream",
          "name": "stderr",
          "text": [
            "/usr/local/lib/python3.7/dist-packages/sklearn/linear_model/_logistic.py:940: ConvergenceWarning: lbfgs failed to converge (status=1):\n",
            "STOP: TOTAL NO. of ITERATIONS REACHED LIMIT.\n",
            "\n",
            "Increase the number of iterations (max_iter) or scale the data as shown in:\n",
            "    https://scikit-learn.org/stable/modules/preprocessing.html\n",
            "Please also refer to the documentation for alternative solver options:\n",
            "    https://scikit-learn.org/stable/modules/linear_model.html#logistic-regression\n",
            "  extra_warning_msg=_LOGISTIC_SOLVER_CONVERGENCE_MSG)\n"
          ]
        }
      ]
    },
    {
      "cell_type": "code",
      "metadata": {
        "id": "HJOYsrf8zb1R",
        "colab": {
          "base_uri": "https://localhost:8080/"
        },
        "outputId": "807f4f2a-9da1-4956-f6a4-cb50229da6c7"
      },
      "source": [
        "cross_val"
      ],
      "execution_count": 98,
      "outputs": [
        {
          "output_type": "execute_result",
          "data": {
            "text/plain": [
              "array([0.55555556, 0.54081633, 0.48979592, 0.5       , 0.57142857])"
            ]
          },
          "metadata": {},
          "execution_count": 98
        }
      ]
    }
  ]
}